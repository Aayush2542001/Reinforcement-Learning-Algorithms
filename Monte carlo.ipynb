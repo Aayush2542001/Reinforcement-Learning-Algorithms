{
 "cells": [
  {
   "cell_type": "markdown",
   "id": "f1784319",
   "metadata": {},
   "source": [
    "# Imports"
   ]
  },
  {
   "cell_type": "code",
   "execution_count": 1,
   "id": "27c0b70f",
   "metadata": {},
   "outputs": [],
   "source": [
    "import gym\n",
    "import numpy as np\n",
    "import matplotlib.pyplot as plt"
   ]
  },
  {
   "cell_type": "markdown",
   "id": "cfd09c33",
   "metadata": {},
   "source": [
    "# Monte Carlo"
   ]
  },
  {
   "cell_type": "code",
   "execution_count": 2,
   "id": "fae276a8",
   "metadata": {},
   "outputs": [],
   "source": [
    "def monte_carlo_control_eps_soft(env, num_episodes, gamma, eps, alpha):\n",
    "    num_actions = env.action_space.n\n",
    "    num_states = env.observation_space.n\n",
    "    Q = np.zeros((num_states, num_actions))\n",
    "    policy = np.ones((num_states, num_actions)) / num_actions\n",
    "\n",
    "    returns = {}\n",
    "    state_action_counts = {}\n",
    "\n",
    "    for episode in range(num_episodes):\n",
    "        episode_data = []\n",
    "\n",
    "        state = env.reset()\n",
    "        done = False\n",
    "\n",
    "        while not done:\n",
    "            if np.random.uniform(0, 1) < eps:\n",
    "                action = np.random.randint(num_actions)\n",
    "            else:\n",
    "                action = np.argmax(Q[state])\n",
    "\n",
    "            next_state, reward, done, _ = env.step(action)\n",
    "            episode_data.append((state, action, reward))\n",
    "\n",
    "            state = next_state\n",
    "\n",
    "        G = 0\n",
    "        for t in range(len(episode_data) - 1, -1, -1):\n",
    "            state, action, reward = episode_data[t]\n",
    "            G = gamma*G + reward\n",
    "\n",
    "            if (state, action) not in state_action_counts:\n",
    "                state_action_counts[(state, action)] = 1\n",
    "            else:\n",
    "                state_action_counts[(state, action)] += 1\n",
    "\n",
    "            if (state, action) not in returns:\n",
    "                returns[(state, action)] = G\n",
    "            else:\n",
    "                returns[(state, action)] += G\n",
    "\n",
    "            Q[state, action] = returns[(state, action)] / state_action_counts[(state, action)]\n",
    "            policy[state] = np.eye(num_actions)[np.argmax(Q[state])]\n",
    "\n",
    "    return Q, policy"
   ]
  },
  {
   "cell_type": "markdown",
   "id": "f6fa07da",
   "metadata": {},
   "source": [
    "# Creating Environment"
   ]
  },
  {
   "cell_type": "code",
   "execution_count": 3,
   "id": "070b8e68",
   "metadata": {},
   "outputs": [],
   "source": [
    "custom_map = [\n",
    "    'SFFH',\n",
    "    'FFFF',\n",
    "    'HFFF',\n",
    "    'HFFG'\n",
    "]\n",
    " \n",
    "env = gym.make('FrozenLake-v0', desc=custom_map, is_slippery=True)\n",
    "\n",
    "Q, policy = monte_carlo_control_eps_soft(env, num_episodes=100000, gamma=0.3, eps=0.2, alpha=0.05)"
   ]
  },
  {
   "cell_type": "markdown",
   "id": "4a681970",
   "metadata": {},
   "source": [
    "# Q Table Plot\n",
    "### Blue -> Start State | Red -> End State | Green -> Goal State"
   ]
  },
  {
   "cell_type": "code",
   "execution_count": 4,
   "id": "f1d26adb",
   "metadata": {},
   "outputs": [
    {
     "data": {
      "image/png": "[encoded data removed]",
      "text/plain": [
       "<Figure size 640x480 with 1 Axes>"
      ]
     },
     "metadata": {},
     "output_type": "display_data"
    }
   ],
   "source": [
    "prob_grid = np.reshape(Q, (4, 4, 4))\n",
    "\n",
    "arrows = ['←', '↓', '→', '↑']\n",
    "\n",
    "fig, ax = plt.subplots()\n",
    "ax.set_xticks(np.arange(-0.5, 4.5, 1))\n",
    "ax.set_yticks(np.arange(-0.5, 4.5, 1))\n",
    "ax.grid(which='both', color='black', linestyle='-', linewidth=2)\n",
    "ax.set_xticklabels([])\n",
    "ax.set_yticklabels([])\n",
    "for i in range(4):\n",
    "    for j in range(4):\n",
    "        optimal_action = np.argmax(prob_grid[i, j])\n",
    "        ax.text(j, 3 - i, arrows[optimal_action], ha='center', va='center', fontsize=20)\n",
    "\n",
    "rects = [plt.Rectangle((-0.5, 2.5), 1, 1, fc='blue', ec='black', lw=2, alpha=0.2),\n",
    "         plt.Rectangle((-0.5, -0.5), 1, 1, fc='red', ec='black', lw=2, alpha=0.2), \n",
    "         plt.Rectangle((-0.5, 0.5), 1, 1, fc='red', ec='black', lw=2, alpha=0.2), \n",
    "         plt.Rectangle((2.5, 2.5), 1, 1, fc='red', ec='black', lw=2, alpha=0.2),\n",
    "         plt.Rectangle((2.5, -0.5), 1, 1, fc='green', ec='black', lw=2, alpha=0.2)]\n",
    "\n",
    "for rect in rects:\n",
    "    ax.add_patch(rect)\n",
    "    \n",
    "plt.show()"
   ]
  }
 ],
 "metadata": {
  "kernelspec": {
   "display_name": "Python 3 (ipykernel)",
   "language": "python",
   "name": "python3"
  },
  "language_info": {
   "codemirror_mode": {
    "name": "ipython",
    "version": 3
   },
   "file_extension": ".py",
   "mimetype": "text/x-python",
   "name": "python",
   "nbconvert_exporter": "python",
   "pygments_lexer": "ipython3",
   "version": "3.8.10"
  }
 },
 "nbformat": 4,
 "nbformat_minor": 5
}
