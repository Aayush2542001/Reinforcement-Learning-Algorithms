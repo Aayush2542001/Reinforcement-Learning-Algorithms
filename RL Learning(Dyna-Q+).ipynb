{
 "cells": [
  {
   "cell_type": "markdown",
   "id": "5e3fee76",
   "metadata": {},
   "source": [
    "# Imports"
   ]
  },
  {
   "cell_type": "code",
   "execution_count": 1,
   "id": "c0e91915",
   "metadata": {},
   "outputs": [],
   "source": [
    "import gym\n",
    "import numpy as np\n",
    "import matplotlib.pyplot as plt"
   ]
  },
  {
   "cell_type": "markdown",
   "id": "aa54f416",
   "metadata": {},
   "source": [
    "# Creating Environment"
   ]
  },
  {
   "cell_type": "code",
   "execution_count": 2,
   "id": "222b741e",
   "metadata": {},
   "outputs": [],
   "source": [
    "env = gym.make(\"FrozenLake-v0\", is_slippery=True)"
   ]
  },
  {
   "cell_type": "code",
   "execution_count": 3,
   "id": "75ee5cbb",
   "metadata": {},
   "outputs": [
    {
     "data": {
      "text/plain": [
       "4"
      ]
     },
     "execution_count": 3,
     "metadata": {},
     "output_type": "execute_result"
    }
   ],
   "source": [
    "env.action_space.n"
   ]
  },
  {
   "cell_type": "code",
   "execution_count": 4,
   "id": "1e98840f",
   "metadata": {},
   "outputs": [
    {
     "data": {
      "text/plain": [
       "16"
      ]
     },
     "execution_count": 4,
     "metadata": {},
     "output_type": "execute_result"
    }
   ],
   "source": [
    "env.observation_space.n"
   ]
  },
  {
   "cell_type": "markdown",
   "id": "f70cb342",
   "metadata": {},
   "source": [
    "# State-Action Table"
   ]
  },
  {
   "cell_type": "code",
   "execution_count": 5,
   "id": "d1e69229",
   "metadata": {},
   "outputs": [],
   "source": [
    "Q = np.zeros([env.observation_space.n, env.action_space.n])\n",
    "model = {}\n",
    "e = np.zeros([env.observation_space.n, env.action_space.n])"
   ]
  },
  {
   "cell_type": "markdown",
   "id": "71a1535b",
   "metadata": {},
   "source": [
    "# Hyperparameters"
   ]
  },
  {
   "cell_type": "code",
   "execution_count": 6,
   "id": "f8be37fc",
   "metadata": {},
   "outputs": [],
   "source": [
    "alpha = 0.1\n",
    "gamma = 0.99\n",
    "n = 10\n",
    "kappa = 0.001"
   ]
  },
  {
   "cell_type": "markdown",
   "id": "bb46593c",
   "metadata": {},
   "source": [
    "# Dany-Q+"
   ]
  },
  {
   "cell_type": "code",
   "execution_count": 7,
   "id": "e00a6d4c",
   "metadata": {},
   "outputs": [],
   "source": [
    "num_episodes = 1000\n",
    "for i in range(num_episodes):\n",
    "    state = env.reset()\n",
    "    done = False\n",
    "\n",
    "    while not done:\n",
    "        if np.random.uniform(0, 1) < 0.1:\n",
    "            action = env.action_space.sample()\n",
    "        else:\n",
    "            action = np.argmax(Q[state, :])\n",
    "\n",
    "        next_state, reward, done, _ = env.step(action)\n",
    "\n",
    "        td_error = reward + gamma * np.max(Q[next_state, :]) - Q[state, action]\n",
    "        Q[state, action] += alpha * td_error\n",
    "\n",
    "        if state not in model:\n",
    "            model[state] = {}\n",
    "        model[state][action] = (next_state, reward)\n",
    "\n",
    "        for j in range(n):\n",
    "            state_planning = np.random.choice(list(model.keys()))\n",
    "            action_planning = np.random.choice(list(model[state_planning].keys()))\n",
    "            next_state_planning, reward_planning = model[state_planning][action_planning]\n",
    "\n",
    "            exploration_bonus = kappa * np.sqrt(e[state_planning, action_planning])\n",
    "\n",
    "            td_error_planning = reward_planning + gamma * (np.max(Q[next_state_planning, :]) + exploration_bonus) - Q[state_planning, action_planning]\n",
    "            Q[state_planning, action_planning] += alpha * td_error_planning\n",
    "\n",
    "            e[state_planning, action_planning] += 1\n",
    "\n",
    "            e *= gamma\n",
    "\n",
    "        e[state, action] = 1\n",
    "\n",
    "        state = next_state"
   ]
  },
  {
   "cell_type": "markdown",
   "id": "f85779b2",
   "metadata": {},
   "source": [
    "# Testing"
   ]
  },
  {
   "cell_type": "code",
   "execution_count": 8,
   "id": "f1a6c807",
   "metadata": {},
   "outputs": [
    {
     "name": "stdout",
     "output_type": "stream",
     "text": [
      "Average reward per episode: 0.41\n"
     ]
    }
   ],
   "source": [
    "num_episodes = 100\n",
    "num_steps = 100\n",
    "total_reward = 0\n",
    "for i in range(num_episodes):\n",
    "    state = env.reset()\n",
    "    for j in range(num_steps):\n",
    "        action = np.argmax(Q[state, :])\n",
    "        next_state, reward, done, _ = env.step(action)\n",
    "        total_reward += reward\n",
    "        if done:\n",
    "            break\n",
    "        state = next_state\n",
    "avg_reward = total_reward / num_episodes\n",
    "print(f\"Average reward per episode: {avg_reward:.2f}\")"
   ]
  },
  {
   "cell_type": "markdown",
   "id": "8c06f330",
   "metadata": {},
   "source": [
    "# Q Table Plot\n",
    "### Blue -> Start State | Red -> End State | Green -> Goal State"
   ]
  },
  {
   "cell_type": "code",
   "execution_count": 9,
   "id": "2ce4a144",
   "metadata": {},
   "outputs": [
    {
     "data": {
      "image/png": "[encoded data removed]",
      "text/plain": [
       "<Figure size 640x480 with 1 Axes>"
      ]
     },
     "metadata": {},
     "output_type": "display_data"
    }
   ],
   "source": [
    "prob_grid = np.reshape(Q, (4, 4, 4))\n",
    "\n",
    "arrows = ['←', '↓', '→', '↑']\n",
    "offset = 0.5\n",
    "\n",
    "fig, ax = plt.subplots()\n",
    "ax.set_xticks(np.arange(0, 5, 1))\n",
    "ax.set_yticks(np.arange(0, 5, 1))\n",
    "ax.grid(which='both', color='black', linestyle='-', linewidth=2)\n",
    "ax.set_xticklabels([])\n",
    "ax.set_yticklabels([])\n",
    "for i in range(4):\n",
    "    for j in range(4):\n",
    "        optimal_action = np.argmax(prob_grid[i, j])\n",
    "        ax.text(j + offset, 3 - i + offset, arrows[optimal_action], ha='center', va='center', fontsize=20)\n",
    "\n",
    "rects = [plt.Rectangle((0, 3), 1, 1, fc='blue', ec='black', lw=2, alpha=0.2),\n",
    "         plt.Rectangle((0, 0), 1, 1, fc='red', ec='black', lw=2, alpha=0.2), \n",
    "         plt.Rectangle((1, 2), 1, 1, fc='red', ec='black', lw=2, alpha=0.2), \n",
    "         plt.Rectangle((3, 2), 1, 1, fc='red', ec='black', lw=2, alpha=0.2),\n",
    "         plt.Rectangle((3, 1), 1, 1, fc='red', ec='black', lw=2, alpha=0.2),\n",
    "         plt.Rectangle((3, 0), 1, 1, fc='green', ec='black', lw=2, alpha=0.2)]\n",
    "\n",
    "for rect in rects:\n",
    "    ax.add_patch(rect)\n",
    "    \n",
    "plt.show()"
   ]
  }
 ],
 "metadata": {
  "kernelspec": {
   "display_name": "Python 3 (ipykernel)",
   "language": "python",
   "name": "python3"
  },
  "language_info": {
   "codemirror_mode": {
    "name": "ipython",
    "version": 3
   },
   "file_extension": ".py",
   "mimetype": "text/x-python",
   "name": "python",
   "nbconvert_exporter": "python",
   "pygments_lexer": "ipython3",
   "version": "3.8.10"
  }
 },
 "nbformat": 4,
 "nbformat_minor": 5
}
