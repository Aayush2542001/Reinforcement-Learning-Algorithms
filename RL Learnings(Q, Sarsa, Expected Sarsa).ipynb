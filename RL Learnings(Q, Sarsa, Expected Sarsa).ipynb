{
 "cells": [
  {
   "cell_type": "markdown",
   "id": "367741f7",
   "metadata": {},
   "source": [
    "# Imports"
   ]
  },
  {
   "cell_type": "code",
   "execution_count": 3,
   "id": "57a17b8f",
   "metadata": {},
   "outputs": [],
   "source": [
    "import numpy as np\n",
    "from matplotlib import pyplot as plt"
   ]
  },
  {
   "cell_type": "markdown",
   "id": "5e639f2f",
   "metadata": {},
   "source": [
    "# Constants"
   ]
  },
  {
   "cell_type": "code",
   "execution_count": 153,
   "id": "aa337317",
   "metadata": {},
   "outputs": [],
   "source": [
    "# Initialize Q table\n",
    "num_states = 15\n",
    "num_actions = 2\n",
    "\n",
    "# Set hyperparameters\n",
    "alpha = 0.1  # Learning rate\n",
    "gamma = 0.9  # Discount factor\n",
    "epsilon = 0.1  # Exploration rate\n",
    "num_episodes = 250  # Number of episodes"
   ]
  },
  {
   "cell_type": "markdown",
   "id": "4ae4f621",
   "metadata": {},
   "source": [
    "# Functions"
   ]
  },
  {
   "cell_type": "code",
   "execution_count": 169,
   "id": "d50f5d4b",
   "metadata": {},
   "outputs": [],
   "source": [
    "# Define the reward function\n",
    "def get_reward(state, action):\n",
    "    if state == num_states-2 and action == 1:\n",
    "        return 1\n",
    "    else:\n",
    "        return 0"
   ]
  },
  {
   "cell_type": "markdown",
   "id": "32d2ce67",
   "metadata": {},
   "source": [
    "# Learning Algorithms"
   ]
  },
  {
   "cell_type": "code",
   "execution_count": 170,
   "id": "7800cad5",
   "metadata": {},
   "outputs": [],
   "source": [
    "# Define the Q-learning algorithm\n",
    "def q_learning():\n",
    "    q_table = np.zeros((num_states, num_actions))\n",
    "    for i in range(num_episodes):\n",
    "        # Reset the environment\n",
    "        state = 0\n",
    "        done = False\n",
    "\n",
    "        while not done:\n",
    "            # Choose an action\n",
    "            if np.random.uniform() < epsilon:\n",
    "                action = np.random.randint(num_actions)\n",
    "            else:\n",
    "                action = np.argmax(q_table[state])\n",
    "            \n",
    "            # Take the action and observe the reward and next state\n",
    "            reward = get_reward(state, action)\n",
    "            next_state = state + 1 if action == 1 else state\n",
    "            \n",
    "            # Update the Q table\n",
    "            q_table[state, action] = q_table[state, action] + alpha * (reward + gamma * np.max(q_table[next_state]) - q_table[state, action])\n",
    "\n",
    "            # Update the current state and check if the episode is done\n",
    "            state = next_state\n",
    "            if state == num_states - 1:\n",
    "                done = True\n",
    "\n",
    "    return q_table\n",
    "\n",
    "# Define the Sarsa algorithm\n",
    "def sarsa():\n",
    "    q_table = np.zeros((num_states, num_actions))\n",
    "    for i in range(num_episodes):\n",
    "        # Reset the environment\n",
    "        state = 0\n",
    "        done = False\n",
    "        \n",
    "        # Choose an action using epsilon-greedy policy\n",
    "        if np.random.uniform() < epsilon:\n",
    "            action = np.random.randint(num_actions)\n",
    "        else:\n",
    "            action = np.argmax(q_table[state])\n",
    "        \n",
    "        while not done:\n",
    "            # Take the action and observe the reward and next state\n",
    "            reward = get_reward(state, action)\n",
    "            next_state = state + 1 if action == 1 else state\n",
    "            \n",
    "            # Choose the next action using epsilon-greedy policy\n",
    "            if np.random.uniform() < epsilon:\n",
    "                next_action = np.random.randint(num_actions)\n",
    "            else:\n",
    "                next_action = np.argmax(q_table[next_state])\n",
    "            \n",
    "            # Update the Q table using SARSA update rule\n",
    "            q_table[state, action] = q_table[state, action] + alpha * (reward + gamma * q_table[next_state, next_action] - q_table[state, action])\n",
    "            \n",
    "            # Update the current state and action and check if the episode is done\n",
    "            state = next_state\n",
    "            action = next_action\n",
    "            if state == num_states - 1:\n",
    "                done = True\n",
    "    \n",
    "    return q_table\n",
    "    \n",
    "# Define the Expected SARSA algorithm\n",
    "def expected_sarsa():\n",
    "    q_table = np.zeros((num_states, num_actions))\n",
    "    for i in range(num_episodes):\n",
    "        # Reset the environment\n",
    "        state = 0\n",
    "        done = False\n",
    "\n",
    "        while not done:\n",
    "            # Choose an action\n",
    "            if np.random.uniform() < epsilon:\n",
    "                action = np.random.randint(num_actions)\n",
    "            else:\n",
    "                action_values = q_table[state]\n",
    "                action_probabilities = np.ones(num_actions) * epsilon / num_actions\n",
    "                best_action = np.argmax(action_values)\n",
    "                action_probabilities[best_action] += 1 - epsilon\n",
    "                action = np.random.choice(np.arange(num_actions), p=action_probabilities)\n",
    "\n",
    "            # Take the action and observe the reward and next state\n",
    "            reward = get_reward(state, action)\n",
    "            next_state = state + 1 if action == 1 else state\n",
    "            \n",
    "            # Calculate the expected Q value for the next state\n",
    "            next_action_values = q_table[next_state]\n",
    "            next_action_probabilities = np.ones(num_actions) * epsilon / num_actions\n",
    "            best_next_action = np.argmax(next_action_values)\n",
    "            next_action_probabilities[best_next_action] += 1 - epsilon\n",
    "            expected_q_value = np.sum(next_action_probabilities * next_action_values)\n",
    "\n",
    "            # Update the Q table\n",
    "            q_table[state, action] = q_table[state, action] + alpha * (reward + gamma * expected_q_value - q_table[state, action])\n",
    "\n",
    "            # Update the current state and check if the episode is done\n",
    "            state = next_state\n",
    "            if state == num_states - 1:\n",
    "                done = True\n",
    "\n",
    "    return q_table\n",
    "    \n",
    "\n",
    "# Run the algorithm\n",
    "q_table_q_learning = q_learning()\n",
    "\n",
    "q_table_sarsa = sarsa() \n",
    "\n",
    "q_table_expected_sarsa = expected_sarsa()"
   ]
  },
  {
   "cell_type": "markdown",
   "id": "21df1adc",
   "metadata": {},
   "source": [
    "# Visualization"
   ]
  },
  {
   "cell_type": "code",
   "execution_count": 171,
   "id": "5f7109c5",
   "metadata": {},
   "outputs": [
    {
     "data": {
      "image/png": "[encoded data removed]",
      "text/plain": [
       "<Figure size 1200x400 with 3 Axes>"
      ]
     },
     "metadata": {},
     "output_type": "display_data"
    }
   ],
   "source": [
    "x = np.arange(num_states-1)\n",
    "width = 0.35\n",
    "\n",
    "fig, ax = plt.subplots(nrows=1, ncols=3, figsize=(12, 4))\n",
    "\n",
    "ax[0].bar(x + width/2, q_table_q_learning[:-1,1], width, label='Action Right')\n",
    "ax[0].bar(x - width/2, q_table_q_learning[:-1,0], width, label='Action Left')\n",
    "\n",
    "ax[0].set_xlabel('Action')\n",
    "ax[0].set_ylabel('Value')\n",
    "ax[0].set_xticks(x)\n",
    "ax[0].legend()\n",
    "ax[0].set_title('Q Learning')\n",
    "\n",
    "ax[1].bar(x + width/2, q_table_sarsa[:-1,1], width, label='Action Right')\n",
    "ax[1].bar(x - width/2, q_table_sarsa[:-1,0], width, label='Action Left')\n",
    "\n",
    "ax[1].set_xlabel('Action')\n",
    "ax[1].set_ylabel('Value')\n",
    "ax[1].set_xticks(x)\n",
    "ax[1].legend()\n",
    "ax[1].set_title('Sarsa')\n",
    "\n",
    "ax[2].bar(x + width/2, q_table_expected_sarsa[:-1,1], width, label='Action Right')\n",
    "ax[2].bar(x - width/2, q_table_expected_sarsa[:-1,0], width, label='Action Left')\n",
    "\n",
    "ax[2].set_xlabel('Action')\n",
    "ax[2].set_ylabel('Value')\n",
    "ax[2].set_xticks(x)\n",
    "ax[2].legend()\n",
    "ax[2].set_title('Expected Sarsa')\n",
    "\n",
    "\n",
    "plt.show()"
   ]
  }
 ],
 "metadata": {
  "kernelspec": {
   "display_name": "Python 3 (ipykernel)",
   "language": "python",
   "name": "python3"
  },
  "language_info": {
   "codemirror_mode": {
    "name": "ipython",
    "version": 3
   },
   "file_extension": ".py",
   "mimetype": "text/x-python",
   "name": "python",
   "nbconvert_exporter": "python",
   "pygments_lexer": "ipython3",
   "version": "3.8.10"
  }
 },
 "nbformat": 4,
 "nbformat_minor": 5
}
