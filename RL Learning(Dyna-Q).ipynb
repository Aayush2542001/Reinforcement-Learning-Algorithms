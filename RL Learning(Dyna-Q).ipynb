{
 "cells": [
  {
   "cell_type": "markdown",
   "id": "5e3fee76",
   "metadata": {},
   "source": [
    "# Imports"
   ]
  },
  {
   "cell_type": "code",
   "execution_count": 1,
   "id": "c0e91915",
   "metadata": {},
   "outputs": [],
   "source": [
    "import numpy as np\n",
    "import gym\n",
    "import matplotlib.pyplot as plt"
   ]
  },
  {
   "cell_type": "markdown",
   "id": "aa54f416",
   "metadata": {},
   "source": [
    "# Creating Environment"
   ]
  },
  {
   "cell_type": "code",
   "execution_count": 2,
   "id": "ddc7bf8d",
   "metadata": {},
   "outputs": [],
   "source": [
    "custom_map = [\n",
    "    'SFFH',\n",
    "    'FFFF',\n",
    "    'HFFF',\n",
    "    'HFFG'\n",
    "]\n",
    " \n",
    "env = gym.make('FrozenLake-v0', desc=custom_map, is_slippery=False)"
   ]
  },
  {
   "cell_type": "code",
   "execution_count": 3,
   "id": "75ee5cbb",
   "metadata": {},
   "outputs": [
    {
     "data": {
      "text/plain": [
       "4"
      ]
     },
     "execution_count": 3,
     "metadata": {},
     "output_type": "execute_result"
    }
   ],
   "source": [
    "env.action_space.n"
   ]
  },
  {
   "cell_type": "code",
   "execution_count": 4,
   "id": "1e98840f",
   "metadata": {},
   "outputs": [
    {
     "data": {
      "text/plain": [
       "16"
      ]
     },
     "execution_count": 4,
     "metadata": {},
     "output_type": "execute_result"
    }
   ],
   "source": [
    "env.observation_space.n"
   ]
  },
  {
   "cell_type": "markdown",
   "id": "0349683f",
   "metadata": {},
   "source": [
    "# Environment Example  "
   ]
  },
  {
   "cell_type": "markdown",
   "id": "94713819",
   "metadata": {},
   "source": [
    "### Initial State"
   ]
  },
  {
   "cell_type": "code",
   "execution_count": 5,
   "id": "1ad73456",
   "metadata": {},
   "outputs": [
    {
     "name": "stdout",
     "output_type": "stream",
     "text": [
      "\n",
      "\u001b[41mS\u001b[0mFFH\n",
      "FFFF\n",
      "HFFF\n",
      "HFFG\n"
     ]
    }
   ],
   "source": [
    "env.reset()\n",
    "env.render()"
   ]
  },
  {
   "cell_type": "markdown",
   "id": "9915c301",
   "metadata": {},
   "source": [
    "### Stepping right twice"
   ]
  },
  {
   "cell_type": "code",
   "execution_count": 6,
   "id": "32fde620",
   "metadata": {},
   "outputs": [
    {
     "name": "stdout",
     "output_type": "stream",
     "text": [
      "  (Right)\n",
      "SF\u001b[41mF\u001b[0mH\n",
      "FFFF\n",
      "HFFF\n",
      "HFFG\n"
     ]
    }
   ],
   "source": [
    "env.step(2)\n",
    "env.step(2)\n",
    "env.render()"
   ]
  },
  {
   "cell_type": "markdown",
   "id": "680440aa",
   "metadata": {},
   "source": [
    "### Stepping downwards thrice "
   ]
  },
  {
   "cell_type": "code",
   "execution_count": 7,
   "id": "a59a5807",
   "metadata": {},
   "outputs": [
    {
     "name": "stdout",
     "output_type": "stream",
     "text": [
      "  (Down)\n",
      "SFFH\n",
      "FFFF\n",
      "HFFF\n",
      "HF\u001b[41mF\u001b[0mG\n"
     ]
    }
   ],
   "source": [
    "env.step(1)\n",
    "env.step(1)\n",
    "env.step(1)\n",
    "env.render()"
   ]
  },
  {
   "cell_type": "markdown",
   "id": "cd30b07e",
   "metadata": {},
   "source": [
    "### Stepping right once for Goal state"
   ]
  },
  {
   "cell_type": "code",
   "execution_count": 8,
   "id": "5e6fb014",
   "metadata": {},
   "outputs": [
    {
     "name": "stdout",
     "output_type": "stream",
     "text": [
      "  (Right)\n",
      "SFFH\n",
      "FFFF\n",
      "HFFF\n",
      "HFF\u001b[41mG\u001b[0m\n"
     ]
    }
   ],
   "source": [
    "env.step(2)\n",
    "env.render()"
   ]
  },
  {
   "cell_type": "markdown",
   "id": "b7864d50",
   "metadata": {},
   "source": [
    "# Dynamic Q-Learning"
   ]
  },
  {
   "cell_type": "code",
   "execution_count": 9,
   "id": "3844735b",
   "metadata": {},
   "outputs": [],
   "source": [
    "class TabularDynaQ:\n",
    "    def __init__(self, num_states, num_actions, alpha, gamma, epsilon, n):\n",
    "        self.Q = np.zeros((num_states, num_actions))\n",
    "        self.alpha = alpha\n",
    "        self.gamma = gamma\n",
    "        self.epsilon = epsilon\n",
    "        self.n = n\n",
    "        self.model = {}\n",
    "        \n",
    "    def update_Q(self, s, a, r, s_prime):\n",
    "        max_Q = np.max(self.Q[s_prime, :])\n",
    "        td_error = r + self.gamma * max_Q - self.Q[s, a]\n",
    "        self.Q[s, a] += self.alpha * td_error\n",
    "        \n",
    "    def update_model(self, s, a, r, s_prime):\n",
    "        if s not in self.model:\n",
    "            self.model[s] = {}\n",
    "        self.model[s][a] = (r, s_prime)\n",
    "        \n",
    "    def sample_model(self):\n",
    "        s = np.random.choice(list(self.model.keys()))\n",
    "        a = np.random.choice(list(self.model[s].keys()))\n",
    "        r, s_prime = self.model[s][a]\n",
    "        return s, a, r, s_prime\n",
    "        \n",
    "    def plan(self):\n",
    "        for i in range(self.n):\n",
    "            s, a, r, s_prime = self.sample_model()\n",
    "            max_Q = np.max(self.Q[s_prime, :])\n",
    "            td_error = r + self.gamma * max_Q - self.Q[s, a]\n",
    "            self.Q[s, a] += self.alpha * td_error\n",
    "        \n",
    "    def get_action(self, s):\n",
    "        if np.random.rand() < self.epsilon:\n",
    "            a = np.random.randint(self.Q.shape[1])\n",
    "        else:\n",
    "            a = np.argmax(self.Q[s, :])\n",
    "        return a"
   ]
  },
  {
   "cell_type": "markdown",
   "id": "5efadcb3",
   "metadata": {},
   "source": [
    "# Defining Agent"
   ]
  },
  {
   "cell_type": "code",
   "execution_count": 10,
   "id": "6ebdab95",
   "metadata": {},
   "outputs": [],
   "source": [
    "agent = TabularDynaQ(num_states=env.observation_space.n, \n",
    "                      num_actions=env.action_space.n, \n",
    "                      alpha=0.1, gamma=0.9, epsilon=0.5, n=5)"
   ]
  },
  {
   "cell_type": "markdown",
   "id": "496dd3e6",
   "metadata": {},
   "source": [
    "# Training & Testing"
   ]
  },
  {
   "cell_type": "code",
   "execution_count": 11,
   "id": "5173c53d",
   "metadata": {},
   "outputs": [
    {
     "name": "stdout",
     "output_type": "stream",
     "text": [
      "Average testing reward: 1.0\n"
     ]
    }
   ],
   "source": [
    "num_episodes = 1000\n",
    "for i in range(num_episodes):\n",
    "    s = env.reset()\n",
    "    done = False\n",
    "    while not done:\n",
    "        a = agent.get_action(s)\n",
    "        s_prime, r, done, info, = env.step(a)\n",
    "        agent.update_Q(s, a, r, s_prime)\n",
    "        agent.update_model(s, a, r, s_prime)\n",
    "        agent.plan()\n",
    "        s = s_prime\n",
    "\n",
    "num_episodes = 10\n",
    "total_reward = 0\n",
    "for i in range(num_episodes):\n",
    "    s = env.reset()\n",
    "    done = False\n",
    "    while not done:\n",
    "        a = np.argmax(agent.Q[s, :])\n",
    "        s_prime, r, done, info = env.step(a)\n",
    "        s = s_prime\n",
    "        total_reward += r\n",
    "print(\"Average testing reward:\", total_reward / num_episodes)"
   ]
  },
  {
   "cell_type": "markdown",
   "id": "8c06f330",
   "metadata": {},
   "source": [
    "# Q Table Plot\n",
    "### Blue -> Start State | Red -> End State | Green -> Goal State"
   ]
  },
  {
   "cell_type": "code",
   "execution_count": 12,
   "id": "b9a48c10",
   "metadata": {},
   "outputs": [
    {
     "data": {
      "image/png": "[encoded data removed]",
      "text/plain": [
       "<Figure size 640x480 with 1 Axes>"
      ]
     },
     "metadata": {},
     "output_type": "display_data"
    }
   ],
   "source": [
    "prob_grid = np.reshape(agent.Q, (4, 4, 4))\n",
    "\n",
    "arrows = ['←', '↓', '→', '↑']\n",
    "\n",
    "fig, ax = plt.subplots()\n",
    "ax.set_xticks(np.arange(-0.5, 4.5, 1))\n",
    "ax.set_yticks(np.arange(-0.5, 4.5, 1))\n",
    "ax.grid(which='both', color='black', linestyle='-', linewidth=2)\n",
    "ax.set_xticklabels([])\n",
    "ax.set_yticklabels([])\n",
    "for i in range(4):\n",
    "    for j in range(4):\n",
    "        optimal_action = np.argmax(prob_grid[i, j])\n",
    "        ax.text(j, 3 - i, arrows[optimal_action], ha='center', va='center', fontsize=20)\n",
    "\n",
    "rects = [plt.Rectangle((-0.5, 2.5), 1, 1, fc='blue', ec='black', lw=2, alpha=0.2),\n",
    "         plt.Rectangle((-0.5, -0.5), 1, 1, fc='red', ec='black', lw=2, alpha=0.2), \n",
    "         plt.Rectangle((-0.5, 0.5), 1, 1, fc='red', ec='black', lw=2, alpha=0.2), \n",
    "         plt.Rectangle((2.5, 2.5), 1, 1, fc='red', ec='black', lw=2, alpha=0.2),\n",
    "         plt.Rectangle((2.5, -0.5), 1, 1, fc='green', ec='black', lw=2, alpha=0.2)]\n",
    "\n",
    "for rect in rects:\n",
    "    ax.add_patch(rect)\n",
    "    \n",
    "plt.show()"
   ]
  }
 ],
 "metadata": {
  "kernelspec": {
   "display_name": "Python 3 (ipykernel)",
   "language": "python",
   "name": "python3"
  },
  "language_info": {
   "codemirror_mode": {
    "name": "ipython",
    "version": 3
   },
   "file_extension": ".py",
   "mimetype": "text/x-python",
   "name": "python",
   "nbconvert_exporter": "python",
   "pygments_lexer": "ipython3",
   "version": "3.8.10"
  }
 },
 "nbformat": 4,
 "nbformat_minor": 5
}
